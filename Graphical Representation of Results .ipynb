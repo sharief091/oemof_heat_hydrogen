{
 "cells": [
  {
   "cell_type": "code",
   "execution_count": 14,
   "metadata": {
    "scrolled": true
   },
   "outputs": [],
   "source": [
    "import pandas as pd\n",
    "import os"
   ]
  },
  {
   "cell_type": "code",
   "execution_count": 4,
   "metadata": {},
   "outputs": [],
   "source": [
    "results_dataframe = pd.DataFrame({\n",
    "    \"Team\" : ['MOABIT','KREUZBERG','FROHNAU','ADLERSHOF','WEDDING','TEGEL','PANKOW','TREPTOW','FORCHDORF'],\n",
    "    \"CO2-Emission(t/a)\" : [21809.12, 14058.26, 21055.68, 15515.54, 17623.42, 9623.63, 8904.09, 32924.31, 7833.61],\n",
    "    \"Total Costs of Energy System per Year(Mio. €/a)\" : [12.74, 21.92, 10.77, 47.33, 46.41, 122.81, 45.14, 13.97, 16.89],\n",
    "    \"Self-Sufficiency(%)\" : [64.74, 73.43, 99.67, 65.85, 92.87, 100.00, 99.16, 0 , 95.13] })"
   ]
  },
  {
   "cell_type": "code",
   "execution_count": 6,
   "metadata": {
    "scrolled": true
   },
   "outputs": [
    {
     "data": {
      "text/html": [
       "<div>\n",
       "<style scoped>\n",
       "    .dataframe tbody tr th:only-of-type {\n",
       "        vertical-align: middle;\n",
       "    }\n",
       "\n",
       "    .dataframe tbody tr th {\n",
       "        vertical-align: top;\n",
       "    }\n",
       "\n",
       "    .dataframe thead th {\n",
       "        text-align: right;\n",
       "    }\n",
       "</style>\n",
       "<table border=\"1\" class=\"dataframe\">\n",
       "  <thead>\n",
       "    <tr style=\"text-align: right;\">\n",
       "      <th></th>\n",
       "      <th>CO2-Emission(t/a)</th>\n",
       "      <th>Total Costs of Energy System per Year(Mio. €/a)</th>\n",
       "      <th>Self-Sufficiency(%)</th>\n",
       "    </tr>\n",
       "    <tr>\n",
       "      <th>Team</th>\n",
       "      <th></th>\n",
       "      <th></th>\n",
       "      <th></th>\n",
       "    </tr>\n",
       "  </thead>\n",
       "  <tbody>\n",
       "    <tr>\n",
       "      <th>MOABIT</th>\n",
       "      <td>21809.12</td>\n",
       "      <td>12.74</td>\n",
       "      <td>64.74</td>\n",
       "    </tr>\n",
       "    <tr>\n",
       "      <th>KREUZBERG</th>\n",
       "      <td>14058.26</td>\n",
       "      <td>21.92</td>\n",
       "      <td>73.43</td>\n",
       "    </tr>\n",
       "    <tr>\n",
       "      <th>FROHNAU</th>\n",
       "      <td>21055.68</td>\n",
       "      <td>10.77</td>\n",
       "      <td>99.67</td>\n",
       "    </tr>\n",
       "    <tr>\n",
       "      <th>ADLERSHOF</th>\n",
       "      <td>15515.54</td>\n",
       "      <td>47.33</td>\n",
       "      <td>65.85</td>\n",
       "    </tr>\n",
       "    <tr>\n",
       "      <th>WEDDING</th>\n",
       "      <td>17623.42</td>\n",
       "      <td>46.41</td>\n",
       "      <td>92.87</td>\n",
       "    </tr>\n",
       "    <tr>\n",
       "      <th>TEGEL</th>\n",
       "      <td>9623.63</td>\n",
       "      <td>122.81</td>\n",
       "      <td>100.00</td>\n",
       "    </tr>\n",
       "    <tr>\n",
       "      <th>PANKOW</th>\n",
       "      <td>8904.09</td>\n",
       "      <td>45.14</td>\n",
       "      <td>99.16</td>\n",
       "    </tr>\n",
       "    <tr>\n",
       "      <th>TREPTOW</th>\n",
       "      <td>32924.31</td>\n",
       "      <td>13.97</td>\n",
       "      <td>0.00</td>\n",
       "    </tr>\n",
       "    <tr>\n",
       "      <th>FORCHDORF</th>\n",
       "      <td>9894.04</td>\n",
       "      <td>17.20</td>\n",
       "      <td>95.50</td>\n",
       "    </tr>\n",
       "  </tbody>\n",
       "</table>\n",
       "</div>"
      ],
      "text/plain": [
       "           CO2-Emission(t/a)  Total Costs of Energy System per Year(Mio. €/a)  \\\n",
       "Team                                                                            \n",
       "MOABIT              21809.12                                            12.74   \n",
       "KREUZBERG           14058.26                                            21.92   \n",
       "FROHNAU             21055.68                                            10.77   \n",
       "ADLERSHOF           15515.54                                            47.33   \n",
       "WEDDING             17623.42                                            46.41   \n",
       "TEGEL                9623.63                                           122.81   \n",
       "PANKOW               8904.09                                            45.14   \n",
       "TREPTOW             32924.31                                            13.97   \n",
       "FORCHDORF            9894.04                                            17.20   \n",
       "\n",
       "           Self-Sufficiency(%)  \n",
       "Team                            \n",
       "MOABIT                   64.74  \n",
       "KREUZBERG                73.43  \n",
       "FROHNAU                  99.67  \n",
       "ADLERSHOF                65.85  \n",
       "WEDDING                  92.87  \n",
       "TEGEL                   100.00  \n",
       "PANKOW                   99.16  \n",
       "TREPTOW                   0.00  \n",
       "FORCHDORF                95.50  "
      ]
     },
     "execution_count": 6,
     "metadata": {},
     "output_type": "execute_result"
    }
   ],
   "source": [
    "results_dataframe.set_index('Team')"
   ]
  },
  {
   "cell_type": "code",
   "execution_count": 13,
   "metadata": {},
   "outputs": [],
   "source": [
    "results_dataframe.to_csv((r'F:\\winpython64\\WPy64-3830\\notebooks\\oemof-dev\\results_df.csv'))"
   ]
  },
  {
   "cell_type": "code",
   "execution_count": 17,
   "metadata": {},
   "outputs": [],
   "source": [
    "results_dataframe = pd.read_csv((r'F:\\winpython64\\WPy64-3830\\notebooks\\oemof-dev\\Graphical Representation of Results\\results_df.csv'))"
   ]
  },
  {
   "cell_type": "code",
   "execution_count": null,
   "metadata": {},
   "outputs": [],
   "source": [
    "print(results_)"
   ]
  }
 ],
 "metadata": {
  "kernelspec": {
   "display_name": "Python 3",
   "language": "python",
   "name": "python3"
  },
  "language_info": {
   "codemirror_mode": {
    "name": "ipython",
    "version": 3
   },
   "file_extension": ".py",
   "mimetype": "text/x-python",
   "name": "python",
   "nbconvert_exporter": "python",
   "pygments_lexer": "ipython3",
   "version": "3.8.3"
  }
 },
 "nbformat": 4,
 "nbformat_minor": 4
}
